{
 "cells": [
  {
   "cell_type": "code",
   "execution_count": 1,
   "metadata": {
    "_uuid": "3672e6b5e76d3b6b707888e2b083b44e6acf3774",
    "collapsed": true
   },
   "outputs": [],
   "source": [
    "import numpy as np\n",
    "import pandas as pd\n",
    "import scipy as sp\n",
    "import matplotlib.pyplot as plt\n",
    "\n",
    "from sklearn.linear_model import LogisticRegression\n",
    "from sklearn.metrics import log_loss"
   ]
  },
  {
   "cell_type": "code",
   "execution_count": null,
   "metadata": {
    "collapsed": true
   },
   "outputs": [],
   "source": []
  },
  {
   "cell_type": "code",
   "execution_count": 2,
   "metadata": {
    "_uuid": "bfc77439933e34bbb0b4940120acf9377212653a",
    "collapsed": true
   },
   "outputs": [],
   "source": [
    "season_result = pd.read_csv('ext/RegularSeasonCompactResults.csv')\n",
    "tourney_result = pd.read_csv('ext/NCAATourneyCompactResults.csv')\n",
    "sample_submission = pd.read_csv('ext/SampleSubmissionStage2.csv')"
   ]
  },
  {
   "cell_type": "markdown",
   "metadata": {
    "_uuid": "4e2922077ba5312ca4669a6c780cc19f2f9b8e52"
   },
   "source": [
    "## Add feature"
   ]
  },
  {
   "cell_type": "code",
   "execution_count": 57,
   "metadata": {
    "_uuid": "bb8097ad0d16578189c42e45c0199a7336efb860",
    "collapsed": true
   },
   "outputs": [],
   "source": [
    "team_list = sorted(set(season_result.WTeamID) | set(season_result.LTeamID))\n",
    "n_teams = len(team_list)\n",
    "team_to_int = {t: i for i, t in enumerate(team_list)}\n",
    "\n",
    "season_result['team_a'] = season_result.WTeamID.apply(team_to_int.get)\n",
    "season_result['team_b'] = season_result.LTeamID.apply(team_to_int.get)\n",
    "season_result['log_ratio'] = np.log(season_result.WScore / season_result.LScore)\n",
    "\n",
    "tourney_result['team_a'] = tourney_result.WTeamID.apply(team_to_int.get)\n",
    "tourney_result['team_b'] = tourney_result.LTeamID.apply(team_to_int.get)\n",
    "\n",
    "sample_submission['team_a'] = sample_submission.ID.apply(lambda a: team_to_int[int(a.split('_')[1])])\n",
    "sample_submission['team_b'] = sample_submission.ID.apply(lambda a: team_to_int[int(a.split('_')[2])])"
   ]
  },
  {
   "cell_type": "code",
   "execution_count": 4,
   "metadata": {
    "_uuid": "4078a821a0ba22bb9c6dfa14944cffde59d662a3",
    "collapsed": true
   },
   "outputs": [],
   "source": [
    "def encode_team(d):\n",
    "    n_samples = d.shape[0]\n",
    "    a = np.arange(n_samples)\n",
    "    x = sp.sparse.lil_matrix((n_samples, n_teams))\n",
    "    x[a, d.team_a] = 1\n",
    "    x[a, d.team_b] = -1\n",
    "    return x"
   ]
  },
  {
   "cell_type": "markdown",
   "metadata": {
    "_uuid": "f41411fdb6173b6a19dbf565ea49a756096520ea"
   },
   "source": [
    "## Find best model"
   ]
  },
  {
   "cell_type": "markdown",
   "metadata": {
    "_uuid": "93fe7f589c560723ac6c6de4cff0358388d344f1"
   },
   "source": [
    "### Logistic Regression"
   ]
  },
  {
   "cell_type": "code",
   "execution_count": 5,
   "metadata": {
    "_uuid": "1e6087c3f9da28b8d9cead91f25e1e165146bf43",
    "collapsed": true
   },
   "outputs": [],
   "source": [
    "def cv_w_c(year_list, w_list, c_list):\n",
    "    loss_array = np.zeros((len(year_list), len(w_list), len(c_list)))\n",
    "    for i, year in enumerate(year_list):\n",
    "        sr = season_result[season_result.Season == year]\n",
    "        x_sr = encode_team(sr)\n",
    "        y_sr = np.ones(x_sr.shape[0], dtype=np.int64)\n",
    "        x_train = sp.sparse.vstack([x_sr, -x_sr])\n",
    "        y_train = np.concatenate([y_sr, -y_sr])\n",
    "        log_ratio = np.concatenate([sr.log_ratio, sr.log_ratio])\n",
    "\n",
    "        tr = tourney_result[tourney_result.Season == year]\n",
    "        x_tr = encode_team(tr)\n",
    "        y_tr = np.ones(x_tr.shape[0], dtype=np.int64)\n",
    "        x_test = sp.sparse.vstack([x_tr, -x_tr])\n",
    "        y_test = np.concatenate([y_tr, -y_tr])\n",
    "\n",
    "        for j, w in enumerate(w_list):\n",
    "            if w is None:\n",
    "                w_train = None\n",
    "            else:\n",
    "                w_train = w * log_ratio.min() + log_ratio\n",
    "            for k, c in enumerate(c_list):\n",
    "                cls = LogisticRegression(C=c)\n",
    "                cls.fit(x_train, y_train, w_train)\n",
    "                col = list(cls.classes_).index(1)\n",
    "                y_pred = cls.predict_proba(x_test)[:, col]\n",
    "                loss = log_loss(y_test, y_pred)\n",
    "                loss_array[i, j, k] = loss\n",
    "\n",
    "    return loss_array.mean(0)"
   ]
  },
  {
   "cell_type": "code",
   "execution_count": 6,
   "metadata": {
    "_uuid": "e003bee8fa38af083429afba99465492a5a3c8c8",
    "collapsed": true
   },
   "outputs": [],
   "source": [
    "def find_c(year_list, w, c_list):\n",
    "    w_list = [w]\n",
    "    loss_array = cv_w_c(year_list, w_list, c_list)\n",
    "    a = divmod(loss_array.argmin(), loss_array.shape[-1])\n",
    "    print('c_list={}'.format(c_list))\n",
    "    print('w={} c={} loss={}'.format(w_list[a[0]], c_list[a[1]], loss_array[a]))\n",
    "    plt.plot(c_list, loss_array[a[0], :])\n",
    "    plt.show()"
   ]
  },
  {
   "cell_type": "code",
   "execution_count": 7,
   "metadata": {
    "_uuid": "1712c4f37e92968fa17c8c34a889ca9da16f0b50",
    "collapsed": true
   },
   "outputs": [],
   "source": [
    "year_list = range(2010, 2018)"
   ]
  },
  {
   "cell_type": "code",
   "execution_count": 8,
   "metadata": {
    "_uuid": "28de259ad6b47b92d0db3115b035196d6e7a0740"
   },
   "outputs": [
    {
     "name": "stdout",
     "output_type": "stream",
     "text": [
      "c_list=[  1.00000000e-03   1.99526231e-03   3.98107171e-03   7.94328235e-03\n",
      "   1.58489319e-02   3.16227766e-02   6.30957344e-02   1.25892541e-01\n",
      "   2.51188643e-01   5.01187234e-01   1.00000000e+00   1.99526231e+00\n",
      "   3.98107171e+00   7.94328235e+00   1.58489319e+01   3.16227766e+01\n",
      "   6.30957344e+01   1.25892541e+02   2.51188643e+02   5.01187234e+02\n",
      "   1.00000000e+03]\n",
      "w=None c=1.0 loss=0.5722201893006443\n"
     ]
    },
    {
     "data": {
      "image/png": "[encoded data removed]",
      "text/plain": [
       "<matplotlib.figure.Figure at 0x5a20c0a4e0>"
      ]
     },
     "metadata": {},
     "output_type": "display_data"
    }
   ],
   "source": [
    "find_c(year_list, None, np.logspace(-3, 3, 21))"
   ]
  },
  {
   "cell_type": "code",
   "execution_count": 9,
   "metadata": {
    "_uuid": "12c5f4aa446632e022c366927728c43eea1ae3c2"
   },
   "outputs": [
    {
     "name": "stdout",
     "output_type": "stream",
     "text": [
      "c_list=[ 0.5  0.6  0.7  0.8  0.9  1.   1.1  1.2  1.3  1.4  1.5  1.6  1.7  1.8  1.9\n",
      "  2. ]\n",
      "w=None c=1.1 loss=0.5721941722996348\n"
     ]
    },
    {
     "data": {
      "image/png": "[encoded data removed]",
      "text/plain": [
       "<matplotlib.figure.Figure at 0x5a1c2d0e48>"
      ]
     },
     "metadata": {},
     "output_type": "display_data"
    }
   ],
   "source": [
    "find_c(year_list, None, np.linspace(0.5, 2, 16))"
   ]
  },
  {
   "cell_type": "markdown",
   "metadata": {
    "_uuid": "a9595717438ea7b613f99325ab338339acddd579"
   },
   "source": [
    "### Weighted Logistic Regression"
   ]
  },
  {
   "cell_type": "code",
   "execution_count": 10,
   "metadata": {
    "_uuid": "b42ed4c6470d51967180789732963c374a803ce6",
    "collapsed": true
   },
   "outputs": [],
   "source": [
    "def find_w(year_list, w_list, c_list):\n",
    "    loss_array = cv_w_c(year_list, w_list, c_list)\n",
    "    a = divmod(loss_array.argmin(), loss_array.shape[-1])\n",
    "    print('w_list={}'.format(w_list))\n",
    "    print('w={} c={} loss={}'.format(w_list[a[0]], c_list[a[1]], loss_array[a]))\n",
    "    plt.plot(w_list, loss_array[:, a[1]])\n",
    "    plt.show()"
   ]
  },
  {
   "cell_type": "code",
   "execution_count": 11,
   "metadata": {
    "_uuid": "a26e74bb2bde82c9f30c6f13be264651171c750c"
   },
   "outputs": [
    {
     "name": "stdout",
     "output_type": "stream",
     "text": [
      "w_list=[  0.           0.1          0.16681005   0.27825594   0.46415888\n",
      "   0.77426368   1.29154967   2.15443469   3.59381366   5.9948425   10.        ]\n",
      "w=2.1544346900318834 c=3.981071705534969 loss=0.56146319351754\n"
     ]
    },
    {
     "data": {
      "image/png": "[encoded data removed]",
      "text/plain": [
       "<matplotlib.figure.Figure at 0x5a1dab4320>"
      ]
     },
     "metadata": {},
     "output_type": "display_data"
    }
   ],
   "source": [
    "find_w(year_list,\n",
    "       np.concatenate([np.zeros(1), np.logspace(-1, 1, 10)]),\n",
    "       np.logspace(-3, 3, 21))"
   ]
  },
  {
   "cell_type": "code",
   "execution_count": 12,
   "metadata": {
    "_uuid": "992d6b4529e045a89a63b4ff39fd6cdfe57b215e"
   },
   "outputs": [
    {
     "name": "stdout",
     "output_type": "stream",
     "text": [
      "w_list=[ 1.   1.5  2.   2.5  3.   3.5  4. ]\n",
      "w=2.5 c=3.981071705534969 loss=0.5614549346342018\n"
     ]
    },
    {
     "data": {
      "image/png": "[encoded data removed]",
      "text/plain": [
       "<matplotlib.figure.Figure at 0x5a1c5595f8>"
      ]
     },
     "metadata": {},
     "output_type": "display_data"
    }
   ],
   "source": [
    "find_w(year_list,\n",
    "       np.linspace(1, 4, 7),\n",
    "       np.logspace(-3, 3, 21))"
   ]
  },
  {
   "cell_type": "code",
   "execution_count": 13,
   "metadata": {
    "_uuid": "bfaebe04e37190985c8c7d8eac99c7d3556c0836"
   },
   "outputs": [
    {
     "name": "stdout",
     "output_type": "stream",
     "text": [
      "c_list=[ 2.   2.2  2.4  2.6  2.8  3.   3.2  3.4  3.6  3.8  4.   4.2  4.4  4.6  4.8\n",
      "  5.   5.2  5.4  5.6  5.8  6.   6.2  6.4  6.6  6.8  7.   7.2  7.4  7.6  7.8\n",
      "  8. ]\n",
      "w=2.5 c=3.6 loss=0.5613219623142486\n"
     ]
    },
    {
     "data": {
      "image/png": "[encoded data removed]",
      "text/plain": [
       "<matplotlib.figure.Figure at 0x5a1f3e5e48>"
      ]
     },
     "metadata": {},
     "output_type": "display_data"
    }
   ],
   "source": [
    "find_c(year_list, 2.5, np.linspace(2, 8, 31))"
   ]
  },
  {
   "cell_type": "markdown",
   "metadata": {
    "_uuid": "94814e6db7fce014ba50f4d09be6f978f339b679"
   },
   "source": [
    "## Make predication"
   ]
  },
  {
   "cell_type": "code",
   "execution_count": 31,
   "metadata": {
    "_uuid": "22b74d2162bf805d24d61f9d133fe4193d2f9a8b",
    "collapsed": true
   },
   "outputs": [],
   "source": [
    "def predict(w, c, filename):\n",
    "    year = 2018\n",
    "\n",
    "    sr = season_result[season_result.Season == year]\n",
    "    x_sr = encode_team(sr)\n",
    "    y_sr = np.ones(x_sr.shape[0], dtype=np.int64)\n",
    "    x_train = sp.sparse.vstack([x_sr, -x_sr])\n",
    "    y_train = np.concatenate([y_sr, -y_sr])\n",
    "    log_ratio = np.concatenate([sr.log_ratio, sr.log_ratio])\n",
    "\n",
    "    x_test = encode_team(sample_submission)\n",
    "\n",
    "    if w is None:\n",
    "        w_train = None\n",
    "    else:\n",
    "        w_train = w * log_ratio.min() + log_ratio\n",
    "\n",
    "    cls = LogisticRegression(C=c)\n",
    "    cls.fit(x_train, y_train, w_train)\n",
    "    col = list(cls.classes_).index(1)\n",
    "    y_pred = cls.predict_proba(x_test)[:, col]\n",
    "\n",
    "    submission = pd.DataFrame()\n",
    "    submission['ID'] = sample_submission.ID\n",
    "    submission['Pred'] = y_pred\n",
    "    submission.to_csv(filename, index=False)\n",
    "\n",
    "    return cls\n",
    "lr = predict(w=None, c=1.1, filename='predict_with_logistic.csv')\n",
    "wlr = predict(w=2.5, c=3.6, filename='predict_with_weighted_logistic.csv')"
   ]
  },
  {
   "cell_type": "code",
   "execution_count": 36,
   "metadata": {
    "collapsed": true
   },
   "outputs": [],
   "source": [
    " year = 2018\n",
    "w=None\n",
    "c=1.1\n",
    "sr = season_result[season_result.Season == year]\n",
    "x_sr = encode_team(sr)\n",
    "y_sr = np.ones(x_sr.shape[0], dtype=np.int64)\n",
    "x_train = sp.sparse.vstack([x_sr, -x_sr])\n",
    " y_train = np.concatenate([y_sr, -y_sr])\n",
    "log_ratio = np.concatenate([sr.log_ratio, sr.log_ratio])\n",
    "\n",
    "x_test = encode_team(sample_submission)\n",
    "\n",
    "if w is None:\n",
    "    w_train = None\n",
    "else:\n",
    "    w_train = w * log_ratio.min() + log_ratio\n"
   ]
  },
  {
   "cell_type": "code",
   "execution_count": 37,
   "metadata": {
    "collapsed": true
   },
   "outputs": [],
   "source": [
    "\n",
    "cls = LogisticRegression(C=c)\n",
    "cls.fit(x_train, y_train, w_train)\n",
    "col = list(cls.classes_).index(1)\n",
    "y_pred = cls.predict_proba(x_test)[:, col]\n",
    "\n",
    "  "
   ]
  },
  {
   "cell_type": "code",
   "execution_count": 41,
   "metadata": {
    "collapsed": true
   },
   "outputs": [],
   "source": [
    "submission = pd.DataFrame()\n",
    "submission['ID'] = sample_submission.ID\n",
    "submission['Pred'] = y_pred"
   ]
  },
  {
   "cell_type": "code",
   "execution_count": 51,
   "metadata": {},
   "outputs": [
    {
     "data": {
      "text/html": [
       "<div>\n",
       "<style>\n",
       "    .dataframe thead tr:only-child th {\n",
       "        text-align: right;\n",
       "    }\n",
       "\n",
       "    .dataframe thead th {\n",
       "        text-align: left;\n",
       "    }\n",
       "\n",
       "    .dataframe tbody tr th {\n",
       "        vertical-align: top;\n",
       "    }\n",
       "</style>\n",
       "<table border=\"1\" class=\"dataframe\">\n",
       "  <thead>\n",
       "    <tr style=\"text-align: right;\">\n",
       "      <th></th>\n",
       "      <th>ID</th>\n",
       "      <th>Pred</th>\n",
       "      <th>team_a</th>\n",
       "      <th>team_b</th>\n",
       "    </tr>\n",
       "  </thead>\n",
       "  <tbody>\n",
       "    <tr>\n",
       "      <th>0</th>\n",
       "      <td>2018_1104_1112</td>\n",
       "      <td>0.5</td>\n",
       "      <td>3</td>\n",
       "      <td>11</td>\n",
       "    </tr>\n",
       "    <tr>\n",
       "      <th>1</th>\n",
       "      <td>2018_1104_1113</td>\n",
       "      <td>0.5</td>\n",
       "      <td>3</td>\n",
       "      <td>12</td>\n",
       "    </tr>\n",
       "    <tr>\n",
       "      <th>2</th>\n",
       "      <td>2018_1104_1116</td>\n",
       "      <td>0.5</td>\n",
       "      <td>3</td>\n",
       "      <td>15</td>\n",
       "    </tr>\n",
       "    <tr>\n",
       "      <th>3</th>\n",
       "      <td>2018_1104_1120</td>\n",
       "      <td>0.5</td>\n",
       "      <td>3</td>\n",
       "      <td>19</td>\n",
       "    </tr>\n",
       "    <tr>\n",
       "      <th>4</th>\n",
       "      <td>2018_1104_1137</td>\n",
       "      <td>0.5</td>\n",
       "      <td>3</td>\n",
       "      <td>36</td>\n",
       "    </tr>\n",
       "  </tbody>\n",
       "</table>\n",
       "</div>"
      ],
      "text/plain": [
       "               ID  Pred  team_a  team_b\n",
       "0  2018_1104_1112   0.5       3      11\n",
       "1  2018_1104_1113   0.5       3      12\n",
       "2  2018_1104_1116   0.5       3      15\n",
       "3  2018_1104_1120   0.5       3      19\n",
       "4  2018_1104_1137   0.5       3      36"
      ]
     },
     "execution_count": 51,
     "metadata": {},
     "output_type": "execute_result"
    }
   ],
   "source": [
    "sample_submission.head()"
   ]
  },
  {
   "cell_type": "code",
   "execution_count": 54,
   "metadata": {},
   "outputs": [
    {
     "data": {
      "text/html": [
       "<div>\n",
       "<style>\n",
       "    .dataframe thead tr:only-child th {\n",
       "        text-align: right;\n",
       "    }\n",
       "\n",
       "    .dataframe thead th {\n",
       "        text-align: left;\n",
       "    }\n",
       "\n",
       "    .dataframe tbody tr th {\n",
       "        vertical-align: top;\n",
       "    }\n",
       "</style>\n",
       "<table border=\"1\" class=\"dataframe\">\n",
       "  <thead>\n",
       "    <tr style=\"text-align: right;\">\n",
       "      <th></th>\n",
       "      <th>ID</th>\n",
       "      <th>Pred</th>\n",
       "      <th>team1</th>\n",
       "      <th>team2</th>\n",
       "    </tr>\n",
       "  </thead>\n",
       "  <tbody>\n",
       "    <tr>\n",
       "      <th>0</th>\n",
       "      <td>2018_1104_1112</td>\n",
       "      <td>0.5</td>\n",
       "      <td>54</td>\n",
       "      <td>2</td>\n",
       "    </tr>\n",
       "    <tr>\n",
       "      <th>1</th>\n",
       "      <td>2018_1104_1113</td>\n",
       "      <td>0.5</td>\n",
       "      <td>54</td>\n",
       "      <td>211</td>\n",
       "    </tr>\n",
       "    <tr>\n",
       "      <th>2</th>\n",
       "      <td>2018_1104_1116</td>\n",
       "      <td>0.5</td>\n",
       "      <td>54</td>\n",
       "      <td>14</td>\n",
       "    </tr>\n",
       "    <tr>\n",
       "      <th>3</th>\n",
       "      <td>2018_1104_1120</td>\n",
       "      <td>0.5</td>\n",
       "      <td>54</td>\n",
       "      <td>15</td>\n",
       "    </tr>\n",
       "    <tr>\n",
       "      <th>4</th>\n",
       "      <td>2018_1104_1137</td>\n",
       "      <td>0.5</td>\n",
       "      <td>54</td>\n",
       "      <td>217</td>\n",
       "    </tr>\n",
       "  </tbody>\n",
       "</table>\n",
       "</div>"
      ],
      "text/plain": [
       "               ID  Pred  team1  team2\n",
       "0  2018_1104_1112   0.5     54      2\n",
       "1  2018_1104_1113   0.5     54    211\n",
       "2  2018_1104_1116   0.5     54     14\n",
       "3  2018_1104_1120   0.5     54     15\n",
       "4  2018_1104_1137   0.5     54    217"
      ]
     },
     "execution_count": 54,
     "metadata": {},
     "output_type": "execute_result"
    }
   ],
   "source": [
    "sub1 =  pd.read_csv('ext/SampleSubmissionStage2.csv')\n",
    "sub1[\"team1\"] = sub[\"ID\"].apply(lambda x: trans_dict[int(x.split(\"_\")[1])])\n",
    "sub1[\"team2\"] = sub[\"ID\"].apply(lambda x: trans_dict[int(x.split(\"_\")[2])])\n",
    "sub1.head()"
   ]
  },
  {
   "cell_type": "code",
   "execution_count": 55,
   "metadata": {},
   "outputs": [
    {
     "data": {
      "text/html": [
       "<div>\n",
       "<style>\n",
       "    .dataframe thead tr:only-child th {\n",
       "        text-align: right;\n",
       "    }\n",
       "\n",
       "    .dataframe thead th {\n",
       "        text-align: left;\n",
       "    }\n",
       "\n",
       "    .dataframe tbody tr th {\n",
       "        vertical-align: top;\n",
       "    }\n",
       "</style>\n",
       "<table border=\"1\" class=\"dataframe\">\n",
       "  <thead>\n",
       "    <tr style=\"text-align: right;\">\n",
       "      <th></th>\n",
       "      <th>ID</th>\n",
       "      <th>pred</th>\n",
       "    </tr>\n",
       "  </thead>\n",
       "  <tbody>\n",
       "    <tr>\n",
       "      <th>0</th>\n",
       "      <td>2018_1104_1112</td>\n",
       "      <td>0.335851</td>\n",
       "    </tr>\n",
       "    <tr>\n",
       "      <th>1</th>\n",
       "      <td>2018_1104_1113</td>\n",
       "      <td>0.506103</td>\n",
       "    </tr>\n",
       "    <tr>\n",
       "      <th>2</th>\n",
       "      <td>2018_1104_1116</td>\n",
       "      <td>0.403395</td>\n",
       "    </tr>\n",
       "    <tr>\n",
       "      <th>3</th>\n",
       "      <td>2018_1104_1120</td>\n",
       "      <td>0.336418</td>\n",
       "    </tr>\n",
       "    <tr>\n",
       "      <th>4</th>\n",
       "      <td>2018_1104_1137</td>\n",
       "      <td>0.710202</td>\n",
       "    </tr>\n",
       "  </tbody>\n",
       "</table>\n",
       "</div>"
      ],
      "text/plain": [
       "               ID      pred\n",
       "0  2018_1104_1112  0.335851\n",
       "1  2018_1104_1113  0.506103\n",
       "2  2018_1104_1116  0.403395\n",
       "3  2018_1104_1120  0.336418\n",
       "4  2018_1104_1137  0.710202"
      ]
     },
     "execution_count": 55,
     "metadata": {},
     "output_type": "execute_result"
    }
   ],
   "source": [
    "sub1[\"pred\"] = y_pred\n",
    "sub1 = sub1[[\"ID\", \"pred\"]]\n",
    "sub1.head()"
   ]
  },
  {
   "cell_type": "markdown",
   "metadata": {
    "_uuid": "b5fe803448e76b38f9ead9854f01f1f4cf48c242"
   },
   "source": [
    "## Team score"
   ]
  },
  {
   "cell_type": "code",
   "execution_count": 58,
   "metadata": {
    "_uuid": "7dfa8835dd6aee41f10ac46df4c9e858994b5858",
    "collapsed": true
   },
   "outputs": [],
   "source": [
    "team_score = wlr.coef_[0]\n",
    "tourney_teams = sorted(set(sample_submission.team_a) | set(sample_submission.team_b))"
   ]
  },
  {
   "cell_type": "code",
   "execution_count": 46,
   "metadata": {
    "_uuid": "7657f05f8e616793ef2afe014b2232686233adc9"
   },
   "outputs": [
    {
     "data": {
      "image/png": "[encoded data removed]",
      "text/plain": [
       "<matplotlib.figure.Figure at 0x5a2939d080>"
      ]
     },
     "metadata": {},
     "output_type": "display_data"
    }
   ],
   "source": [
    "plt.hist(team_score)\n",
    "plt.show()"
   ]
  },
  {
   "cell_type": "code",
   "execution_count": 47,
   "metadata": {
    "_uuid": "2a1e77a4cd50f6725f140438d6f4f0cb51cc829f"
   },
   "outputs": [
    {
     "data": {
      "image/png": "[encoded data removed]",
      "text/plain": [
       "<matplotlib.figure.Figure at 0x5a2936acc0>"
      ]
     },
     "metadata": {},
     "output_type": "display_data"
    }
   ],
   "source": [
    "plt.hist(team_score[tourney_teams])\n",
    "plt.show()"
   ]
  },
  {
   "cell_type": "markdown",
   "metadata": {},
   "source": [
    "## CL network with Keras\n",
    "Start by creating the embeddings and bias for the dot products of the 2 teams"
   ]
  },
  {
   "cell_type": "code",
   "execution_count": 17,
   "metadata": {},
   "outputs": [
    {
     "data": {
      "text/html": [
       "<div>\n",
       "<style>\n",
       "    .dataframe thead tr:only-child th {\n",
       "        text-align: right;\n",
       "    }\n",
       "\n",
       "    .dataframe thead th {\n",
       "        text-align: left;\n",
       "    }\n",
       "\n",
       "    .dataframe tbody tr th {\n",
       "        vertical-align: top;\n",
       "    }\n",
       "</style>\n",
       "<table border=\"1\" class=\"dataframe\">\n",
       "  <thead>\n",
       "    <tr style=\"text-align: right;\">\n",
       "      <th></th>\n",
       "      <th>team1</th>\n",
       "      <th>team2</th>\n",
       "      <th>pred</th>\n",
       "    </tr>\n",
       "  </thead>\n",
       "  <tbody>\n",
       "    <tr>\n",
       "      <th>0</th>\n",
       "      <td>1228</td>\n",
       "      <td>1328</td>\n",
       "      <td>1</td>\n",
       "    </tr>\n",
       "    <tr>\n",
       "      <th>1</th>\n",
       "      <td>1106</td>\n",
       "      <td>1354</td>\n",
       "      <td>1</td>\n",
       "    </tr>\n",
       "    <tr>\n",
       "      <th>2</th>\n",
       "      <td>1112</td>\n",
       "      <td>1223</td>\n",
       "      <td>1</td>\n",
       "    </tr>\n",
       "    <tr>\n",
       "      <th>3</th>\n",
       "      <td>1165</td>\n",
       "      <td>1432</td>\n",
       "      <td>1</td>\n",
       "    </tr>\n",
       "    <tr>\n",
       "      <th>4</th>\n",
       "      <td>1192</td>\n",
       "      <td>1447</td>\n",
       "      <td>1</td>\n",
       "    </tr>\n",
       "  </tbody>\n",
       "</table>\n",
       "</div>"
      ],
      "text/plain": [
       "   team1  team2  pred\n",
       "0   1228   1328     1\n",
       "1   1106   1354     1\n",
       "2   1112   1223     1\n",
       "3   1165   1432     1\n",
       "4   1192   1447     1"
      ]
     },
     "execution_count": 17,
     "metadata": {},
     "output_type": "execute_result"
    }
   ],
   "source": [
    "simple_df_1 = pd.DataFrame()\n",
    "simple_df_1[[\"team1\", \"team2\"]] =season_result[[\"WTeamID\", \"LTeamID\"]].copy()\n",
    "simple_df_1[\"pred\"] = 1\n",
    "\n",
    "simple_df_2 = pd.DataFrame()\n",
    "simple_df_2[[\"team1\", \"team2\"]] =season_result[[\"LTeamID\", \"WTeamID\"]]\n",
    "simple_df_2[\"pred\"] = 0\n",
    "\n",
    "simple_df = pd.concat((simple_df_1, simple_df_2), axis=0)\n",
    "simple_df.head()"
   ]
  },
  {
   "cell_type": "code",
   "execution_count": 18,
   "metadata": {
    "collapsed": true
   },
   "outputs": [],
   "source": [
    "n = simple_df.team1.nunique()"
   ]
  },
  {
   "cell_type": "code",
   "execution_count": 19,
   "metadata": {},
   "outputs": [
    {
     "data": {
      "text/plain": [
       "364"
      ]
     },
     "execution_count": 19,
     "metadata": {},
     "output_type": "execute_result"
    }
   ],
   "source": [
    "n"
   ]
  },
  {
   "cell_type": "code",
   "execution_count": 20,
   "metadata": {},
   "outputs": [
    {
     "data": {
      "text/html": [
       "<div>\n",
       "<style>\n",
       "    .dataframe thead tr:only-child th {\n",
       "        text-align: right;\n",
       "    }\n",
       "\n",
       "    .dataframe thead th {\n",
       "        text-align: left;\n",
       "    }\n",
       "\n",
       "    .dataframe tbody tr th {\n",
       "        vertical-align: top;\n",
       "    }\n",
       "</style>\n",
       "<table border=\"1\" class=\"dataframe\">\n",
       "  <thead>\n",
       "    <tr style=\"text-align: right;\">\n",
       "      <th></th>\n",
       "      <th>team1</th>\n",
       "      <th>team2</th>\n",
       "      <th>pred</th>\n",
       "    </tr>\n",
       "  </thead>\n",
       "  <tbody>\n",
       "    <tr>\n",
       "      <th>0</th>\n",
       "      <td>0</td>\n",
       "      <td>36</td>\n",
       "      <td>1</td>\n",
       "    </tr>\n",
       "    <tr>\n",
       "      <th>1</th>\n",
       "      <td>1</td>\n",
       "      <td>268</td>\n",
       "      <td>1</td>\n",
       "    </tr>\n",
       "    <tr>\n",
       "      <th>2</th>\n",
       "      <td>2</td>\n",
       "      <td>175</td>\n",
       "      <td>1</td>\n",
       "    </tr>\n",
       "    <tr>\n",
       "      <th>3</th>\n",
       "      <td>3</td>\n",
       "      <td>242</td>\n",
       "      <td>1</td>\n",
       "    </tr>\n",
       "    <tr>\n",
       "      <th>4</th>\n",
       "      <td>4</td>\n",
       "      <td>101</td>\n",
       "      <td>1</td>\n",
       "    </tr>\n",
       "  </tbody>\n",
       "</table>\n",
       "</div>"
      ],
      "text/plain": [
       "   team1  team2  pred\n",
       "0      0     36     1\n",
       "1      1    268     1\n",
       "2      2    175     1\n",
       "3      3    242     1\n",
       "4      4    101     1"
      ]
     },
     "execution_count": 20,
     "metadata": {},
     "output_type": "execute_result"
    }
   ],
   "source": [
    "trans_dict = {t: i for i, t in enumerate(simple_df.team1.unique())}\n",
    "simple_df[\"team1\"] = simple_df[\"team1\"].apply(lambda x: trans_dict[x])\n",
    "simple_df[\"team2\"] = simple_df[\"team2\"].apply(lambda x: trans_dict[x])\n",
    "simple_df.head()"
   ]
  },
  {
   "cell_type": "code",
   "execution_count": 21,
   "metadata": {},
   "outputs": [
    {
     "name": "stderr",
     "output_type": "stream",
     "text": [
      "Using TensorFlow backend.\n"
     ]
    }
   ],
   "source": [
    "from keras.layers import Input, Dense, Dropout, Flatten, Embedding, merge\n",
    "from keras.regularizers import l2\n",
    "from keras.optimizers import Adam\n",
    "from keras.models import Model\n",
    "import numpy as np # linear algebra\n",
    "import pandas as pd # data processing, CSV file I/O (e.g. pd.read_csv)"
   ]
  },
  {
   "cell_type": "code",
   "execution_count": 22,
   "metadata": {
    "collapsed": true
   },
   "outputs": [],
   "source": [
    "train = simple_df.values\n",
    "np.random.shuffle(train)"
   ]
  },
  {
   "cell_type": "code",
   "execution_count": 23,
   "metadata": {
    "collapsed": true
   },
   "outputs": [],
   "source": [
    "def embedding_input(name, n_in, n_out, reg):\n",
    "    inp = Input(shape=(1,), dtype=\"int64\", name=name)\n",
    "    return inp, Embedding(n_in, n_out, input_length=1, W_regularizer=l2(reg))(inp)\n",
    "\n",
    "def create_bias(inp, n_in):\n",
    "    x = Embedding(n_in, 1, input_length=1)(inp)\n",
    "    return Flatten()(x)"
   ]
  },
  {
   "cell_type": "code",
   "execution_count": 24,
   "metadata": {},
   "outputs": [
    {
     "name": "stderr",
     "output_type": "stream",
     "text": [
      "C:\\Users\\spy\\Anaconda3\\lib\\site-packages\\ipykernel_launcher.py:3: UserWarning: Update your `Embedding` call to the Keras 2 API: `Embedding(364, 50, input_length=1, embeddings_regularizer=<keras.reg...)`\n",
      "  This is separate from the ipykernel package so we can avoid doing imports until\n"
     ]
    }
   ],
   "source": [
    "n_factors = 50\n",
    "\n",
    "team1_in, t1 = embedding_input(\"team1_in\", n, n_factors, 1e-4)\n",
    "team2_in, t2 = embedding_input(\"team2_in\", n, n_factors, 1e-4)\n",
    "\n",
    "b1 = create_bias(team1_in, n)\n",
    "b2 = create_bias(team2_in, n)"
   ]
  },
  {
   "cell_type": "code",
   "execution_count": 25,
   "metadata": {},
   "outputs": [
    {
     "name": "stderr",
     "output_type": "stream",
     "text": [
      "C:\\Users\\spy\\Anaconda3\\lib\\site-packages\\ipykernel_launcher.py:1: UserWarning: The `merge` function is deprecated and will be removed after 08/2017. Use instead layers from `keras.layers.merge`, e.g. `add`, `concatenate`, etc.\n",
      "  \"\"\"Entry point for launching an IPython kernel.\n",
      "C:\\Users\\spy\\Anaconda3\\lib\\site-packages\\keras\\legacy\\layers.py:464: UserWarning: The `Merge` layer is deprecated and will be removed after 08/2017. Use instead layers from `keras.layers.merge`, e.g. `add`, `concatenate`, etc.\n",
      "  name=name)\n",
      "C:\\Users\\spy\\Anaconda3\\lib\\site-packages\\ipykernel_launcher.py:3: UserWarning: The `merge` function is deprecated and will be removed after 08/2017. Use instead layers from `keras.layers.merge`, e.g. `add`, `concatenate`, etc.\n",
      "  This is separate from the ipykernel package so we can avoid doing imports until\n",
      "C:\\Users\\spy\\Anaconda3\\lib\\site-packages\\ipykernel_launcher.py:4: UserWarning: The `merge` function is deprecated and will be removed after 08/2017. Use instead layers from `keras.layers.merge`, e.g. `add`, `concatenate`, etc.\n",
      "  after removing the cwd from sys.path.\n"
     ]
    }
   ],
   "source": [
    "x = merge([t1, t2], mode=\"dot\")\n",
    "x = Flatten()(x)\n",
    "x = merge([x, b1], mode=\"sum\")\n",
    "x = merge([x, b2], mode=\"sum\")\n",
    "x = Dense(1, activation=\"sigmoid\")(x)\n",
    "model = Model([team1_in, team2_in], x)\n",
    "model.compile(Adam(0.001), loss=\"binary_crossentropy\")"
   ]
  },
  {
   "cell_type": "code",
   "execution_count": 26,
   "metadata": {},
   "outputs": [
    {
     "name": "stdout",
     "output_type": "stream",
     "text": [
      "__________________________________________________________________________________________________\n",
      "Layer (type)                    Output Shape         Param #     Connected to                     \n",
      "==================================================================================================\n",
      "team1_in (InputLayer)           (None, 1)            0                                            \n",
      "__________________________________________________________________________________________________\n",
      "team2_in (InputLayer)           (None, 1)            0                                            \n",
      "__________________________________________________________________________________________________\n",
      "embedding_1 (Embedding)         (None, 1, 50)        18200       team1_in[0][0]                   \n",
      "__________________________________________________________________________________________________\n",
      "embedding_2 (Embedding)         (None, 1, 50)        18200       team2_in[0][0]                   \n",
      "__________________________________________________________________________________________________\n",
      "merge_1 (Merge)                 (None, 1, 1)         0           embedding_1[0][0]                \n",
      "                                                                 embedding_2[0][0]                \n",
      "__________________________________________________________________________________________________\n",
      "embedding_3 (Embedding)         (None, 1, 1)         364         team1_in[0][0]                   \n",
      "__________________________________________________________________________________________________\n",
      "flatten_3 (Flatten)             (None, 1)            0           merge_1[0][0]                    \n",
      "__________________________________________________________________________________________________\n",
      "flatten_1 (Flatten)             (None, 1)            0           embedding_3[0][0]                \n",
      "__________________________________________________________________________________________________\n",
      "embedding_4 (Embedding)         (None, 1, 1)         364         team2_in[0][0]                   \n",
      "__________________________________________________________________________________________________\n",
      "merge_2 (Merge)                 (None, 1)            0           flatten_3[0][0]                  \n",
      "                                                                 flatten_1[0][0]                  \n",
      "__________________________________________________________________________________________________\n",
      "flatten_2 (Flatten)             (None, 1)            0           embedding_4[0][0]                \n",
      "__________________________________________________________________________________________________\n",
      "merge_3 (Merge)                 (None, 1)            0           merge_2[0][0]                    \n",
      "                                                                 flatten_2[0][0]                  \n",
      "__________________________________________________________________________________________________\n",
      "dense_1 (Dense)                 (None, 1)            2           merge_3[0][0]                    \n",
      "==================================================================================================\n",
      "Total params: 37,130\n",
      "Trainable params: 37,130\n",
      "Non-trainable params: 0\n",
      "__________________________________________________________________________________________________\n"
     ]
    }
   ],
   "source": [
    "model.summary()"
   ]
  },
  {
   "cell_type": "markdown",
   "metadata": {},
   "source": [
    "Now that we have defined our network its time to determine the correct set of numbers that will make our predictions close to actual outputs of a match\n",
    "\n",
    "Lets learn these numbers by minimising the loss using the Adam optimisation algorithm."
   ]
  },
  {
   "cell_type": "code",
   "execution_count": 27,
   "metadata": {},
   "outputs": [
    {
     "name": "stderr",
     "output_type": "stream",
     "text": [
      "C:\\Users\\spy\\Anaconda3\\lib\\site-packages\\ipykernel_launcher.py:1: UserWarning: The `nb_epoch` argument in `fit` has been renamed `epochs`.\n",
      "  \"\"\"Entry point for launching an IPython kernel.\n"
     ]
    },
    {
     "name": "stdout",
     "output_type": "stream",
     "text": [
      "Epoch 1/10\n",
      " - 12s - loss: 0.6394\n",
      "Epoch 2/10\n",
      " - 10s - loss: 0.6100\n",
      "Epoch 3/10\n",
      " - 10s - loss: 0.6090\n",
      "Epoch 4/10\n",
      " - 10s - loss: 0.6088\n",
      "Epoch 5/10\n",
      " - 10s - loss: 0.6087\n",
      "Epoch 6/10\n",
      " - 10s - loss: 0.6086\n",
      "Epoch 7/10\n",
      " - 10s - loss: 0.6085\n",
      "Epoch 8/10\n",
      " - 10s - loss: 0.6083\n",
      "Epoch 9/10\n",
      " - 10s - loss: 0.6082\n",
      "Epoch 10/10\n",
      " - 10s - loss: 0.6081\n"
     ]
    }
   ],
   "source": [
    "history = model.fit([train[:, 0], train[:, 1]], train[:, 2], batch_size=64, nb_epoch=10, verbose=2)"
   ]
  },
  {
   "cell_type": "code",
   "execution_count": 28,
   "metadata": {},
   "outputs": [
    {
     "data": {
      "image/png": "[encoded data removed]",
      "text/plain": [
       "<matplotlib.figure.Figure at 0x5a277c9668>"
      ]
     },
     "metadata": {},
     "output_type": "display_data"
    }
   ],
   "source": [
    "plt.plot(history.history[\"loss\"])\n",
    "plt.show()"
   ]
  },
  {
   "cell_type": "code",
   "execution_count": 29,
   "metadata": {},
   "outputs": [
    {
     "data": {
      "text/html": [
       "<div>\n",
       "<style>\n",
       "    .dataframe thead tr:only-child th {\n",
       "        text-align: right;\n",
       "    }\n",
       "\n",
       "    .dataframe thead th {\n",
       "        text-align: left;\n",
       "    }\n",
       "\n",
       "    .dataframe tbody tr th {\n",
       "        vertical-align: top;\n",
       "    }\n",
       "</style>\n",
       "<table border=\"1\" class=\"dataframe\">\n",
       "  <thead>\n",
       "    <tr style=\"text-align: right;\">\n",
       "      <th></th>\n",
       "      <th>ID</th>\n",
       "      <th>Pred</th>\n",
       "      <th>team1</th>\n",
       "      <th>team2</th>\n",
       "    </tr>\n",
       "  </thead>\n",
       "  <tbody>\n",
       "    <tr>\n",
       "      <th>0</th>\n",
       "      <td>2018_1104_1112</td>\n",
       "      <td>0.5</td>\n",
       "      <td>54</td>\n",
       "      <td>2</td>\n",
       "    </tr>\n",
       "    <tr>\n",
       "      <th>1</th>\n",
       "      <td>2018_1104_1113</td>\n",
       "      <td>0.5</td>\n",
       "      <td>54</td>\n",
       "      <td>211</td>\n",
       "    </tr>\n",
       "    <tr>\n",
       "      <th>2</th>\n",
       "      <td>2018_1104_1116</td>\n",
       "      <td>0.5</td>\n",
       "      <td>54</td>\n",
       "      <td>14</td>\n",
       "    </tr>\n",
       "    <tr>\n",
       "      <th>3</th>\n",
       "      <td>2018_1104_1120</td>\n",
       "      <td>0.5</td>\n",
       "      <td>54</td>\n",
       "      <td>15</td>\n",
       "    </tr>\n",
       "    <tr>\n",
       "      <th>4</th>\n",
       "      <td>2018_1104_1137</td>\n",
       "      <td>0.5</td>\n",
       "      <td>54</td>\n",
       "      <td>217</td>\n",
       "    </tr>\n",
       "  </tbody>\n",
       "</table>\n",
       "</div>"
      ],
      "text/plain": [
       "               ID  Pred  team1  team2\n",
       "0  2018_1104_1112   0.5     54      2\n",
       "1  2018_1104_1113   0.5     54    211\n",
       "2  2018_1104_1116   0.5     54     14\n",
       "3  2018_1104_1120   0.5     54     15\n",
       "4  2018_1104_1137   0.5     54    217"
      ]
     },
     "execution_count": 29,
     "metadata": {},
     "output_type": "execute_result"
    }
   ],
   "source": [
    "sub =  pd.read_csv('ext/SampleSubmissionStage2.csv')\n",
    "sub[\"team1\"] = sub[\"ID\"].apply(lambda x: trans_dict[int(x.split(\"_\")[1])])\n",
    "sub[\"team2\"] = sub[\"ID\"].apply(lambda x: trans_dict[int(x.split(\"_\")[2])])\n",
    "sub.head()"
   ]
  },
  {
   "cell_type": "code",
   "execution_count": 30,
   "metadata": {},
   "outputs": [
    {
     "data": {
      "text/html": [
       "<div>\n",
       "<style>\n",
       "    .dataframe thead tr:only-child th {\n",
       "        text-align: right;\n",
       "    }\n",
       "\n",
       "    .dataframe thead th {\n",
       "        text-align: left;\n",
       "    }\n",
       "\n",
       "    .dataframe tbody tr th {\n",
       "        vertical-align: top;\n",
       "    }\n",
       "</style>\n",
       "<table border=\"1\" class=\"dataframe\">\n",
       "  <thead>\n",
       "    <tr style=\"text-align: right;\">\n",
       "      <th></th>\n",
       "      <th>ID</th>\n",
       "      <th>pred</th>\n",
       "    </tr>\n",
       "  </thead>\n",
       "  <tbody>\n",
       "    <tr>\n",
       "      <th>0</th>\n",
       "      <td>2018_1104_1112</td>\n",
       "      <td>0.315715</td>\n",
       "    </tr>\n",
       "    <tr>\n",
       "      <th>1</th>\n",
       "      <td>2018_1104_1113</td>\n",
       "      <td>0.637036</td>\n",
       "    </tr>\n",
       "    <tr>\n",
       "      <th>2</th>\n",
       "      <td>2018_1104_1116</td>\n",
       "      <td>0.502392</td>\n",
       "    </tr>\n",
       "    <tr>\n",
       "      <th>3</th>\n",
       "      <td>2018_1104_1120</td>\n",
       "      <td>0.619059</td>\n",
       "    </tr>\n",
       "    <tr>\n",
       "      <th>4</th>\n",
       "      <td>2018_1104_1137</td>\n",
       "      <td>0.850680</td>\n",
       "    </tr>\n",
       "  </tbody>\n",
       "</table>\n",
       "</div>"
      ],
      "text/plain": [
       "               ID      pred\n",
       "0  2018_1104_1112  0.315715\n",
       "1  2018_1104_1113  0.637036\n",
       "2  2018_1104_1116  0.502392\n",
       "3  2018_1104_1120  0.619059\n",
       "4  2018_1104_1137  0.850680"
      ]
     },
     "execution_count": 30,
     "metadata": {},
     "output_type": "execute_result"
    }
   ],
   "source": [
    "sub[\"pred\"] = model.predict([sub.team1, sub.team2])\n",
    "sub = sub[[\"ID\", \"pred\"]]\n",
    "sub.head()"
   ]
  },
  {
   "cell_type": "code",
   "execution_count": null,
   "metadata": {
    "collapsed": true
   },
   "outputs": [],
   "source": []
  }
 ],
 "metadata": {
  "kernelspec": {
   "display_name": "Python 3",
   "language": "python",
   "name": "python3"
  },
  "language_info": {
   "codemirror_mode": {
    "name": "ipython",
    "version": 3
   },
   "file_extension": ".py",
   "mimetype": "text/x-python",
   "name": "python",
   "nbconvert_exporter": "python",
   "pygments_lexer": "ipython3",
   "version": "3.6.1"
  }
 },
 "nbformat": 4,
 "nbformat_minor": 1
}
